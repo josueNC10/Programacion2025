{
 "cells": [
  {
   "cell_type": "markdown",
   "metadata": {},
   "source": [
    "# NOTEBOOK 02 - Tipos de datos y Variables\n",
    "## Fundamentos de Programación: Tipos de Datos, Variables y Operaciones Básicas\n",
    "### Prof: Ing. Andrés Mena Abarca\n",
    "\n",
    "> ## Nombre del estudiante: Josue Navarro Camacho"
   ]
  },
  {
   "cell_type": "markdown",
   "metadata": {},
   "source": [
    "\n",
    "\n",
    "---\n",
    "\n",
    "## 1. Tipos de Datos en Python\n",
    "## **1. Introducción a los Tipos de Datos Básicos**\n",
    "\n",
    "### **Explicación:**\n",
    "En Python, los tipos de datos básicos son los bloques fundamentales para almacenar y manipular información. Estos tipos son:\n",
    "\n",
    "1. **`int` (Enteros):**\n",
    "   - Representan números enteros, positivos o negativos.\n",
    "   - Ejemplos: `5`, `-10`, `1000`.\n",
    "   - No tienen límite de tamaño (dependen de la memoria disponible).\n",
    "\n",
    "2. **`float` (Decimales):**\n",
    "   - Representan números con parte decimal.\n",
    "   - Ejemplos: `3.14`, `-0.001`, `2.0`.\n",
    "   - Se almacenan con una precisión limitada (aproximadamente 15 decimales).\n",
    "\n",
    "3. **`str` (Cadenas de Texto):**\n",
    "   - Representan secuencias de caracteres.\n",
    "   - Se definen entre comillas simples (`'Hola'`) o dobles (`\"Python\"`).\n",
    "   - Son inmutables (no se pueden modificar después de crearse).\n",
    "\n",
    "4. **`bool` (Booleanos):**\n",
    "   - Representan valores lógicos: `True` (verdadero) o `False` (falso).\n",
    "   - Se usan en condiciones y operaciones lógicas.\n",
    "\n",
    "### **Práctica:**\n",
    "\n",
    "```python\n",
    "# Declara variables de cada tipo\n",
    "edad = 25  # int\n",
    "altura = 1.75  # float\n",
    "nombre = \"Ana\"  # str\n",
    "es_estudiante = True  # bool\n",
    "\n",
    "# Muestra el tipo de cada variable usando la función type()\n",
    "print(type(edad))  # <class 'int'>\n",
    "print(type(altura))  # <class 'float'>\n",
    "print(type(nombre))  # <class 'str'>\n",
    "print(type(es_estudiante))  # <class 'bool'>\n",
    "\n",
    "## Ejercicios \n",
    "\n",
    "1. Declara una variable de tipo entero y asigna el valor *25*. Luego, imprime su tipo."
   ]
  },
  {
   "cell_type": "code",
   "execution_count": 9,
   "metadata": {},
   "outputs": [
    {
     "name": "stdout",
     "output_type": "stream",
     "text": [
      "Mi nombre es josue, mido 1.68, tengo 16 años, soy estudiante True\n",
      "<class 'int'>\n",
      "<class 'float'>\n",
      "<class 'str'>\n",
      "<class 'bool'>\n"
     ]
    }
   ],
   "source": [
    "#Respuesta\n",
    "edad = 16\n",
    "altura = 1.68\n",
    "nombre = 'josue'\n",
    "es_estudiante = True\n",
    "\n",
    "print (f'Mi nombre es {nombre}, mido {altura}, tengo {edad} años, soy estudiante {es_estudiante}')\n",
    "\n",
    "print(type(edad))\n",
    "print(type(altura))\n",
    "print(type(nombre))\n",
    "print(type(es_estudiante))"
   ]
  },
  {
   "cell_type": "markdown",
   "metadata": {},
   "source": [
    "2. Declara una variable de tipo flotante con el valor *3.1416*. Imprime su tipo.\n"
   ]
  },
  {
   "cell_type": "code",
   "execution_count": 4,
   "metadata": {},
   "outputs": [
    {
     "name": "stdout",
     "output_type": "stream",
     "text": [
      "El valor de PI 3.14\n",
      "<class 'float'>\n"
     ]
    }
   ],
   "source": [
    "#Respuesta\n",
    "pi = float(input('Ingrese el valor de PI: '))\n",
    "print('El valor de PI',pi)\n",
    "print(type(pi))\n",
    "\n"
   ]
  },
  {
   "cell_type": "markdown",
   "metadata": {},
   "source": [
    "3. Crea una variable es_estudiante que almacene un valor booleano indicando si eres estudiante."
   ]
  },
  {
   "cell_type": "code",
   "execution_count": 2,
   "metadata": {},
   "outputs": [
    {
     "name": "stdout",
     "output_type": "stream",
     "text": [
      "true\n",
      "<class 'str'>\n"
     ]
    }
   ],
   "source": [
    "#Respuesta\n",
    "estudiante = input('Eres estudiante True/False')\n",
    "print (estudiante)\n",
    "print(type(estudiante))"
   ]
  },
  {
   "cell_type": "markdown",
   "metadata": {},
   "source": [
    "## 2. Variables en Python\n",
    "\n",
    "### Teoría\n",
    "Las variables son espacios de memoria donde almacenamos datos. En Python, no es necesario declarar el tipo de la variable, simplemente se asigna un valor con el símbolo `=`.\n",
    "\n",
    "#### Reglas para nombrar variables:\n",
    "- Deben comenzar con una letra o un guion bajo.\n",
    "- No pueden comenzar con un número.\n",
    "- Solo pueden contener letras, números y guiones bajos.\n",
    "- Son sensibles a mayúsculas y minúsculas (`nombre` y `Nombre` son diferentes).\n",
    "\n",
    "### Ejemplo"
   ]
  },
  {
   "cell_type": "code",
   "execution_count": 41,
   "metadata": {},
   "outputs": [
    {
     "ename": "IndentationError",
     "evalue": "unexpected indent (3944939805.py, line 10)",
     "output_type": "error",
     "traceback": [
      "  \u001b[36mCell\u001b[39m\u001b[36m \u001b[39m\u001b[32mIn[41]\u001b[39m\u001b[32m, line 10\u001b[39m\n\u001b[31m    \u001b[39m\u001b[31m2variable = 10  # Error: no puede comenzar con un número\u001b[39m\n    ^\n\u001b[31mIndentationError\u001b[39m\u001b[31m:\u001b[39m unexpected indent\n"
     ]
    }
   ],
   "source": [
    "# Declaración de variables\n",
    "mi_nombre = \"Carlos\"\n",
    "edad = 20\n",
    "\n",
    "# Variables válidas\n",
    "nombre_completo = \"Ana Pérez\"\n",
    "_variable_secreta = 42 # convención para indicar que esa variable es protegida.\n",
    "\n",
    "# Variables inválidas (descomentar para ver los errores)\n",
    " 2variable = 10  # Error: no puede comenzar con un número\n",
    " nombre completo = \"Juan\"  # Error: no puede contener espacios"
   ]
  },
  {
   "cell_type": "markdown",
   "metadata": {},
   "source": [
    "## 3. Operaciones Básicas de Entrada y Salida\n",
    "\n",
    "### Teoría\n",
    "Las operaciones de entrada y salida son fundamentales para interactuar con el usuario. En Python, utilizamos la función `input()` para capturar datos del usuario y `print()` para mostrar información en pantalla.\n",
    "\n",
    "### Ejemplos"
   ]
  },
  {
   "cell_type": "code",
   "execution_count": 1,
   "metadata": {},
   "outputs": [
    {
     "name": "stdout",
     "output_type": "stream",
     "text": [
      "¡Hola, mundo!\n",
      "Su nombre es Josue\n"
     ]
    }
   ],
   "source": [
    "# Operación de salida\n",
    "print(\"¡Hola, mundo!\")\n",
    "\n",
    "# Operación de entrada + Saalida con format\n",
    "nombre = input('Ingrse su nombre por favor: ')\n",
    "print(f'Su nombre es {nombre}')\n"
   ]
  },
  {
   "cell_type": "markdown",
   "metadata": {},
   "source": [
    "En otros lenguajes, como *Java*, el proceso es similar pero con algunas diferencias en la sintaxis:\n",
    "\n",
    "```Java\n",
    "// Ejemplo en Java\n",
    "import java.util.Scanner;\n",
    "\n",
    "public class EntradaSalida {\n",
    "    public static void main(String[] args) {\n",
    "        Scanner input = new Scanner(System.in);\n",
    "        System.out.print(\"¿Cómo te llamas? \");\n",
    "        String nombre = input.nextLine();\n",
    "        System.out.println(\"Hola, \" + nombre + \"!\");\n",
    "    }\n",
    "}\n",
    "\n",
    "```"
   ]
  },
  {
   "cell_type": "markdown",
   "metadata": {},
   "source": [
    "## 4. Operadores Básicos en Python\n",
    "\n",
    "### Teoría\n",
    "Los operadores en Python nos permiten realizar diversas operaciones con variables y datos. Los más comunes son:\n",
    "\n",
    "- **Operadores matemáticos**: `+`, `-`, `*`, `/`, `//` (división entera), `%` (módulo)\n",
    "- **Operadores de asignación**: `=`, `+=`, `-=`, `*=`, `/=`\n",
    "- **Operadores de comparación**: `==`, `!=`, `<`, `>`, `<=`, `>=`\n",
    "- **Operadores lógicos**: `and`, `or`, `not`\n",
    "\n",
    "### Tabla de Operadores Matemáticos\n",
    "\n",
    "| Operador | Descripción           | Ejemplo           |\n",
    "|----------|-----------------------|-------------------|\n",
    "| `+`      | Suma                  | `5 + 3 = 8`       |\n",
    "| `-`      | Resta                 | `5 - 2 = 3`       |\n",
    "| `*`      | Multiplicación         | `5 * 2 = 10`      |\n",
    "| `/`      | División              | `10 / 2 = 5.0`    |\n",
    "| `//`     | División entera        | `10 // 3 = 3`     |\n",
    "| `%`      | Módulo (resto)         | `10 % 3 = 1`      |\n",
    "\n",
    "### Ejemplos"
   ]
  },
  {
   "cell_type": "markdown",
   "metadata": {},
   "source": [
    "#### Problema 1: Operadores Matemáticos y Comparación en Python\n",
    "\n",
    "Tienes dos variables `a = 10` y `b = 5`. Realiza las siguientes operaciones matemáticas:"
   ]
  },
  {
   "cell_type": "code",
   "execution_count": 7,
   "metadata": {},
   "outputs": [
    {
     "name": "stdout",
     "output_type": "stream",
     "text": [
      "La suma de a + b es:  15\n",
      "La resta de a - b es:  5\n",
      "La multiplicacion de a * b es:  50\n",
      "La division de a / b es:  2.0\n"
     ]
    }
   ],
   "source": [
    "# Asignacón de variables\n",
    "a = 10\n",
    "b = 5\n",
    "\n",
    "# Suma y resta\n",
    "suma = a + b \n",
    "print('La suma de a + b es: ',suma) \n",
    "\n",
    "resta = a - b\n",
    "print('La resta de a - b es: ',resta)\n",
    "\n",
    "multiplicacion = a * b \n",
    "print('La multiplicacion de a * b es: ',multiplicacion)\n",
    "\n",
    "division = a / b \n",
    "print('La division de a / b es: ',division)"
   ]
  },
  {
   "cell_type": "markdown",
   "metadata": {},
   "source": [
    "#### Práctica:\n",
    "> Función para calcular el área de un círculo:"
   ]
  },
  {
   "cell_type": "code",
   "execution_count": 11,
   "metadata": {},
   "outputs": [
    {
     "name": "stdout",
     "output_type": "stream",
     "text": [
      "El area del circulo es de:  380.132711084365\n"
     ]
    }
   ],
   "source": [
    "from math import pi\n",
    "#Construir función\n",
    "# PI * radio^2\n",
    "# pi * (radio** 2)\n",
    "radio = float(input('¿cual es el radio del ciculo?'))\n",
    "area = pi * (radio**2)\n",
    "print('El area del circulo es de: ',area)"
   ]
  },
  {
   "cell_type": "markdown",
   "metadata": {},
   "source": [
    "#### Problema 2: Comparación de Números\n",
    "Usa los siguientes operadores de comparación para verificar la relación entre a y b. ¿Qué resultado esperas?"
   ]
  },
  {
   "cell_type": "code",
   "execution_count": 13,
   "metadata": {},
   "outputs": [
    {
     "name": "stdout",
     "output_type": "stream",
     "text": [
      "False\n",
      "False\n",
      "True\n",
      "True\n"
     ]
    }
   ],
   "source": [
    "# Operadores de comparación\n",
    "a = 10\n",
    "b = 12\n",
    "# ¿Es a igual a b?\n",
    "print(a == b)\n",
    "# ¿Es a mayor que b?\n",
    "print(a > b)\n",
    "# ¿Es a menor que b?\n",
    "print(a < b)\n",
    "#Diferente\n",
    "print(a != b)"
   ]
  },
  {
   "cell_type": "markdown",
   "metadata": {},
   "source": [
    "### Problema 3: Operadores Lógicos\n",
    "Usa operadores lógicos para combinar condiciones. Resuelve el siguiente problema: ¿Es a mayor que 0 y b menor que 10? \n",
    "\n",
    "- ¿Qué pasa si a = -10?"
   ]
  },
  {
   "cell_type": "code",
   "execution_count": 15,
   "metadata": {},
   "outputs": [
    {
     "name": "stdout",
     "output_type": "stream",
     "text": [
      "True\n"
     ]
    }
   ],
   "source": [
    "# Ejemplo: Operador lógico AND (usuario y contraseña)\n",
    "\n",
    "# Datos correctos (simulando una base de datos)\n",
    "usuario_correcto = \"admin\"\n",
    "contraseña_correcta = \"1234\"\n",
    "\n",
    "usuario = input('Ingrese el usuario por favor: ')\n",
    "contrasena = input('Ingrese la contraseña por favor: ')\n",
    "\n",
    "\n",
    "print(usuario == usuario_correcto and contrasena == contraseña_correcta)"
   ]
  },
  {
   "cell_type": "code",
   "execution_count": 20,
   "metadata": {},
   "outputs": [
    {
     "name": "stdout",
     "output_type": "stream",
     "text": [
      "True\n",
      "True\n",
      "True\n",
      "True\n",
      "False\n"
     ]
    }
   ],
   "source": [
    "# Ejemplo: Operador lógico OR\n",
    "papa = True\n",
    "mama = True\n",
    "# Preguntar si mamá o papá dan permiso\n",
    "print(papa or mama)\n",
    "\n",
    "# Ejemplo: Operador lógico OR\n",
    "papa= True\n",
    "mama= True\n",
    "# Preguntar si mamá o papá dan permiso\n",
    "print(papa or mama)\n",
    "\n",
    "# Ejemplo: Operador lógico OR\n",
    "papa= True\n",
    "mama= False\n",
    "# Preguntar si mamá o papá dan permiso\n",
    "print(papa or mama)\n",
    "\n",
    "# Ejemplo: Operador lógico OR\n",
    "papa= False\n",
    "mama= True\n",
    "# Preguntar si mamá o papá dan permiso\n",
    "print(papa or mama)\n",
    "\n",
    "# Ejemplo: Operador lógico OR\n",
    "papa= False\n",
    "mama= False\n",
    "# Preguntar si mamá o papá dan permiso\n",
    "print(papa or mama)"
   ]
  },
  {
   "cell_type": "code",
   "execution_count": null,
   "metadata": {},
   "outputs": [],
   "source": [
    "# ¿Ambas condiciones son verdaderas?\n",
    "\n",
    "# ¿Al menos una de las condiciones es verdadera?\n",
    "\n",
    "# ¿Es falso que a sea mayor que b?\n"
   ]
  },
  {
   "cell_type": "markdown",
   "metadata": {},
   "source": [
    "### Problema 4: Divisiones y Módulo\n",
    "Prueba las operaciones de división entera y módulo para ver cómo Python maneja los restos de las divisiones."
   ]
  },
  {
   "cell_type": "code",
   "execution_count": 22,
   "metadata": {},
   "outputs": [
    {
     "name": "stdout",
     "output_type": "stream",
     "text": [
      "5.5\n",
      "5\n",
      "1\n"
     ]
    }
   ],
   "source": [
    "# División entera y módulo\n",
    "print(11 / 2) #Division \n",
    "\n",
    "print(11 // 2) #Division entera\n",
    "\n",
    "print(11 % 2) #Division modular"
   ]
  },
  {
   "cell_type": "code",
   "execution_count": 33,
   "metadata": {},
   "outputs": [
    {
     "name": "stdout",
     "output_type": "stream",
     "text": [
      "su numero es par:  True\n"
     ]
    }
   ],
   "source": [
    "# Función para verificar si un número es par\n",
    "numero = float((input('Ingrese un numero porfavor: ')))\n",
    "\n",
    "par = (numero % 2 == 0)\n",
    "\n",
    "print('su numero es par: ', par)"
   ]
  },
  {
   "cell_type": "markdown",
   "metadata": {
    "vscode": {
     "languageId": "powershell"
    }
   },
   "source": [
    "### 5. Conversión entre Tipos de Datos\n",
    "Python permite convertir entre tipos de datos usando funciones como:\n",
    "\n",
    "- `int()`: Convierte a entero.\n",
    "- `float()`: Convierte a decimal.\n",
    "- `str():` Convierte a cadena.\n",
    "- `bool()`: Convierte a booleano."
   ]
  },
  {
   "cell_type": "code",
   "execution_count": 35,
   "metadata": {},
   "outputs": [
    {
     "name": "stdout",
     "output_type": "stream",
     "text": [
      "<class 'int'>\n",
      "<class 'float'>\n",
      "<class 'str'>\n"
     ]
    }
   ],
   "source": [
    "# Conversión de tipos\n",
    "variable = 10\n",
    "print(type(variable))\n",
    "\n",
    "variable = 10.5\n",
    "print(type(variable))\n",
    "\n",
    "variable = '10'\n",
    "print(type(variable))"
   ]
  },
  {
   "cell_type": "code",
   "execution_count": null,
   "metadata": {
    "vscode": {
     "languageId": "powershell"
    }
   },
   "outputs": [],
   "source": [
    "# Conversión de cadenas a números"
   ]
  },
  {
   "cell_type": "markdown",
   "metadata": {},
   "source": [
    "### Ejercicio Final:\n",
    "\n",
    "Combina operadores matemáticos, de comparación y lógicos. Escribe un programa que pida al usuario dos números y realice las siguientes tareas:\n",
    "\n",
    "1. Verifique si el primer número es mayor que el segundo.\n",
    "2. Calcule la suma, resta, división y módulo de ambos.\n",
    "3. Determine si la suma de ambos números es mayor que 20 **y** si alguno de los dos es menor que 5."
   ]
  },
  {
   "cell_type": "code",
   "execution_count": 53,
   "metadata": {},
   "outputs": [
    {
     "name": "stdout",
     "output_type": "stream",
     "text": [
      "El primer numero es mayor:  False\n",
      "La suma de los 2 numeros es:  22.0\n",
      "La resta de los 2 numeros es:  -16.0\n",
      "La division de los 2 numeros es:  0.15789473684210525\n",
      "El modulo de ambos numeros es:  3.0\n",
      "La suma de los 2 numeros es mayor que 20:  True\n",
      "El primer numero es menor que 5:  True\n",
      "El segundo numero es menor que 5:  False\n"
     ]
    }
   ],
   "source": [
    "#Respuesta\n",
    "#Problema 1\n",
    "numero = float(input('Ingrese el primer numero: '))\n",
    "numeroo = float(input('Ingrese el segundo numero: '))\n",
    "\n",
    "mayor = numero > numeroo\n",
    "print('El primer numero es mayor: ',mayor)\n",
    "\n",
    "suma = numero + numeroo\n",
    "print('La suma de los 2 numeros es: ',suma)\n",
    "\n",
    "resta = numero - numeroo\n",
    "print('La resta de los 2 numeros es: ',resta)\n",
    "\n",
    "division = numero / numeroo\n",
    "print('La division de los 2 numeros es: ',division)\n",
    "\n",
    "modulo = numero % numeroo\n",
    "print('El modulo de ambos numeros es: ',modulo)\n",
    "\n",
    "ambos = numero + numeroo > 20\n",
    "print('La suma de los 2 numeros es mayor que 20: ',ambos)\n",
    "\n",
    "num1 = numero < 5\n",
    "print('El primer numero es menor que 5: ',num1)\n",
    "\n",
    "num2 = numeroo < 5 \n",
    "print('El segundo numero es menor que 5: ',num2)"
   ]
  }
 ],
 "metadata": {
  "kernelspec": {
   "display_name": "Python 3",
   "language": "python",
   "name": "python3"
  },
  "language_info": {
   "codemirror_mode": {
    "name": "ipython",
    "version": 3
   },
   "file_extension": ".py",
   "mimetype": "text/x-python",
   "name": "python",
   "nbconvert_exporter": "python",
   "pygments_lexer": "ipython3",
   "version": "3.13.3"
  }
 },
 "nbformat": 4,
 "nbformat_minor": 2
}
