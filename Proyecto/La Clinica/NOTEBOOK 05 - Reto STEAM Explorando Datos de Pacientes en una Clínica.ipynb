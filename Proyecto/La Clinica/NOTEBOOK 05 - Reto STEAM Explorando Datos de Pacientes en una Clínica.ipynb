{
 "cells": [
  {
   "cell_type": "markdown",
   "metadata": {
    "azdata_cell_guid": "e738b43d-fda9-409b-9e4e-f356323e1dbc"
   },
   "source": [
    "# Reto Bootcamp STEAM: Explorando Datos de Pacientes en una Clínica\n",
    "## Fundamentos de Python | UMCA\n",
    "## Profesor: Ing. Andrés Mena Abarca\n",
    "### <mark>**Nombre del estudiante:**</mark> Josue Navarro Camacho\n",
    "* * *"
   ]
  },
  {
   "attachments": {},
   "cell_type": "markdown",
   "metadata": {
    "azdata_cell_guid": "5a9661f6-9c22-438b-8530-debb92fea2ff"
   },
   "source": [
    "¡Bienvenidos al reto STEAM! Hoy serás parte de un equipo de científicos de datos que está desarrollando una aplicación para analizar los datos de los pacientes de una clínica. Este proyecto se integra dentro del enfoque STEAM, donde no solo usaremos habilidades de programación y análisis, sino también creatividad, visualización y reflexión crítica para mejorar la experiencia de salud.\n",
    "\n",
    "En este reto, utilizaremos **Python** para analizar datos clínicos reales y responder preguntas importantes sobre la salud de los pacientes. También diseñarás soluciones creativas y colaborarás con tus compañeros para mejorar la aplicación.\n",
    "\n",
    "### Contexto:\n",
    "\n",
    "El director de la clínica te ha encargado que construyas un sistema que pueda analizar la información de los pacientes, entender las enfermedades tratadas, los medicamentos recetados y comparar pacientes.\n",
    "\n",
    "### Objetivos del Reto:\n",
    "1. Aplicar estructuras básicas de Python como listas y ciclos.\n",
    "2. Leer datos desde un archivo JSON y almacenarlos en listas.\n",
    "3. Realizar análisis de datos sobre enfermedades y medicamentos.\n",
    "4. Visualizar y comunicar los resultados de manera creativa.\n",
    "\n",
    "### Fase Creativa STEAM:\n",
    "- **Ciencia y Tecnología:** Analizarás los datos clínicos.\n",
    "- **Ingeniería:** Implementarás las soluciones utilizando estructuras de Python.\n",
    "- **Arte y Matemáticas:** Visualizarás los resultados de manera atractiva y clara.\n",
    "\n",
    "¡Comencemos!\n",
    "\n",
    "## Cargar y Leer los Datos de Pacientes"
   ]
  },
  {
   "cell_type": "code",
   "execution_count": 84,
   "metadata": {
    "azdata_cell_guid": "65553934-e4e4-4b44-aa2e-b234d1a33667",
    "language": "python"
   },
   "outputs": [
    {
     "name": "stdout",
     "output_type": "stream",
     "text": [
      "carga de datos completa\n",
      "['123', 89076541, 'Heredia', 'Barva', 'gripe', 'acetaminofen']\n",
      "['321', 31321321, 'Cartago', 'Pacayas', 'gastritis', 'antiacido']\n",
      "['456', 87539856, 'San Jose', 'Pavas', 'tos', 'jarabe']\n"
     ]
    }
   ],
   "source": [
    "import json \n",
    "with open('clinica.json', encoding= 'utf-8') as archivo: \n",
    "    datos = json.load(archivo)\n",
    "    print('carga de datos completa')\n",
    "    \n",
    "for paciente in datos[:3]:\n",
    "    print(paciente)"
   ]
  },
  {
   "attachments": {},
   "cell_type": "markdown",
   "metadata": {
    "azdata_cell_guid": "27d04572-8b5b-46fa-b3ee-4ed3f2939a34",
    "language": "python"
   },
   "source": [
    "## Desafío 1: Análisis Científico - Reporte de Enfermedades Tratadas\n",
    "\n",
    "Tu primer reto es analizar los datos de los pacientes para generar un reporte de las enfermedades tratadas en la clínica. Utiliza listas y ciclos para contar cuántos pacientes han sido tratados por cada enfermedad.\n",
    "\n",
    "### Instrucciones:\n",
    "\n",
    "1. Crea una lista vacía donde almacenarás las enfermedades.\n",
    "2. Recorre los datos de los pacientes y extrae la enfermedad de cada paciente.\n",
    "3. Cuenta cuántos pacientes han sido tratados por cada enfermedad.\n",
    "4. Visualiza los resultados de manera clara utilizando la técnica que elijas (gráficos o tablas).\n",
    "\n",
    "### Preguntas:\n",
    "\n",
    "- ¿Qué enfermedades son las más tratadas en la clínica?\n",
    "- ¿Hay alguna enfermedad que te sorprenda por su prevalencia?\n",
    "\n"
   ]
  },
  {
   "attachments": {},
   "cell_type": "markdown",
   "metadata": {
    "azdata_cell_guid": "4b7c571d-d8f2-4d72-9f79-9718986200eb"
   },
   "source": [
    "### **Paso a Paso para el Estudiante**\n",
    "\n",
    "#### **Paso 1: Crear las Listas**\n",
    "\n",
    "### \n",
    "\n",
    "1. **Objetivo:** Necesitamos dos listas para almacenar:\n",
    "    \n",
    "    - Los nombres de las enfermedades.\n",
    "    - La cantidad de veces que cada enfermedad aparece.\n",
    "2. **Instrucción:**\n",
    "    \n",
    "    - Crea una lista vacía llamada `lista_enfermedades`.\n",
    "    - Crea otra lista vacía llamada `lista_cantidades`."
   ]
  },
  {
   "cell_type": "code",
   "execution_count": 85,
   "metadata": {
    "azdata_cell_guid": "61977840-044f-4cb3-858a-1812c43f3e2b",
    "language": "python"
   },
   "outputs": [],
   "source": [
    "# Lista para almacenar las enfermedades y sus cantidades\n",
    "listas_enfermedades = []\n",
    "lista_cantidades = []"
   ]
  },
  {
   "attachments": {},
   "cell_type": "markdown",
   "metadata": {
    "azdata_cell_guid": "549b6c62-76c6-4412-ae94-4d7a0ebd790d"
   },
   "source": [
    "#### **Paso 2: Recorrer los Datos de los Pacientes**\n",
    "\n",
    "### \n",
    "\n",
    "1. **Objetivo:** Vamos a analizar cada paciente para extraer su enfermedad.\n",
    "    \n",
    "2. **Instrucción:**\n",
    "    \n",
    "    - Usa un bucle `for` para recorrer cada `paciente` en `datos_pacientes` (ya está definida en el código como una lista de listas).\n",
    "    - Dentro del bucle, asigna la enfermedad del paciente (índice `4` de cada lista) a una variable llamada `enfermedad`."
   ]
  },
  {
   "cell_type": "code",
   "execution_count": null,
   "metadata": {
    "azdata_cell_guid": "eaf15439-71de-42c1-b0d3-c4ee8210cf05",
    "language": "python"
   },
   "outputs": [],
   "source": [
    "\n",
    "\n",
    "    \n",
    "    "
   ]
  },
  {
   "cell_type": "code",
   "execution_count": null,
   "metadata": {},
   "outputs": [],
   "source": []
  },
  {
   "attachments": {},
   "cell_type": "markdown",
   "metadata": {
    "azdata_cell_guid": "d587b0f6-79f4-4a71-bcaf-837bd0c31bee",
    "language": "python"
   },
   "source": [
    "#### **Paso 3: Verificar si la Enfermedad ya Está en la Lista**\n",
    "\n",
    "1. **Objetivo:** Verificar si la enfermedad ya fue registrada.\n",
    "    \n",
    "2. **Instrucción:**\n",
    "    \n",
    "    - Usa un `if` para verificar si la `enfermedad` ya está en `lista_enfermedades`.\n",
    "    - Si **no** está en `lista_enfermedades`, agrega la enfermedad a `lista_enfermedades` y añade `1` a `lista_cantidades` para contarla por primera vez.\n",
    "    - Si **sí** está en `lista_enfermedades`, encuentra la posición (`indice`) de la enfermedad en `lista_enfermedades` y aumenta en `1` el valor en `lista_cantidades` en la misma posición."
   ]
  },
  {
   "cell_type": "code",
   "execution_count": 86,
   "metadata": {
    "azdata_cell_guid": "f5cffccc-7f3a-45f8-b203-53faac8d2ab0",
    "language": "python"
   },
   "outputs": [
    {
     "name": "stdout",
     "output_type": "stream",
     "text": [
      "\n",
      "REPORTE DE ENFERMEDADES\n",
      "El diagnostico gripe concurrencia de 2\n",
      "El diagnostico gastritis concurrencia de 1\n",
      "El diagnostico tos concurrencia de 1\n",
      "El diagnostico migraña concurrencia de 2\n",
      "El diagnostico dolor concurrencia de 3\n",
      "El diagnostico presion concurrencia de 1\n"
     ]
    }
   ],
   "source": [
    "# Pista: Usa `in` para verificar si la enfermedad ya está en lista_enfermedades.\n",
    "# Pista: Si la enfermedad no está, agrégala a lista_enfermedades y empieza el conteo en lista_cantidades.\n",
    "# Pista: Si la enfermedad ya está, usa `index` para encontrar su posición en lista_enfermedades y suma 1 en lista_cantidades en esa posición.\n",
    "for paciente in datos:\n",
    "    if paciente[4] in listas_enfermedades:\n",
    "        #No se agrega la emfermedad \n",
    "        indice = listas_enfermedades.index(paciente[4])\n",
    "        lista_cantidades[indice] += 1\n",
    "    else: \n",
    "        #Agrega la emfermedad\n",
    "        listas_enfermedades.append(paciente[4])\n",
    "        lista_cantidades.append(1)\n",
    "#Imprimir    \n",
    "print('\\nREPORTE DE ENFERMEDADES')\n",
    "for i in range(len(listas_enfermedades)):\n",
    "    print(f'El diagnostico {listas_enfermedades[i]} concurrencia de {lista_cantidades[i]}')"
   ]
  },
  {
   "attachments": {},
   "cell_type": "markdown",
   "metadata": {
    "azdata_cell_guid": "2ceed8f4-0a9a-48ac-ba0d-d48dc319ab9f",
    "language": "python"
   },
   "source": [
    "#### **Paso 4: Imprimir el Reporte Final**\n",
    "\n",
    "1. **Objetivo:** Mostrar el número de pacientes con cada enfermedad.\n",
    "    \n",
    "2. **Instrucción:**\n",
    "    \n",
    "    - Usa un bucle `for` para recorrer la lista `lista_enfermedades`.\n",
    "    - En cada iteración, imprime la enfermedad y el número de pacientes (que está en `lista_cantidades` en la misma posición)."
   ]
  },
  {
   "cell_type": "code",
   "execution_count": 87,
   "metadata": {
    "azdata_cell_guid": "5368c6bd-5224-4c6f-a5ad-ef6767750039",
    "language": "python"
   },
   "outputs": [
    {
     "name": "stdout",
     "output_type": "stream",
     "text": [
      "Reporte de enfermedades tratadas:\n"
     ]
    }
   ],
   "source": [
    "print(\"Reporte de enfermedades tratadas:\")\n"
   ]
  },
  {
   "attachments": {},
   "cell_type": "markdown",
   "metadata": {
    "azdata_cell_guid": "02262547-dabe-40b9-9ef0-5863dcad648b",
    "language": "python"
   },
   "source": [
    "### **Resumen Completo del Código**\n",
    "\n",
    "En ésta celda resume el código completo que debería tener al final para la solución del ejercicio:"
   ]
  },
  {
   "cell_type": "code",
   "execution_count": 88,
   "metadata": {
    "azdata_cell_guid": "fb7ea25e-c906-4f7e-9265-dd63d3193b54",
    "language": "python"
   },
   "outputs": [
    {
     "name": "stdout",
     "output_type": "stream",
     "text": [
      "carga de datos completa\n",
      "\n",
      "REPORTE DE ENFERMEDADES\n",
      "El diagnostico gripe concurrencia de 2\n",
      "El diagnostico gastritis concurrencia de 1\n",
      "El diagnostico tos concurrencia de 1\n",
      "El diagnostico migraña concurrencia de 2\n",
      "El diagnostico dolor concurrencia de 3\n",
      "El diagnostico presion concurrencia de 1\n"
     ]
    }
   ],
   "source": [
    "#Esta parte puedes colocar todos los bloques de las celdas anteriores \n",
    "import json \n",
    "with open('clinica.json', encoding= 'utf-8') as archivo: \n",
    "    datos = json.load(archivo)\n",
    "    print('carga de datos completa')\n",
    "    \n",
    "# Lista para almacenar las enfermedades y sus cantidades\n",
    "listas_enfermedades = []\n",
    "lista_cantidades = []\n",
    "\n",
    "for paciente in datos:\n",
    "    if paciente[4] in listas_enfermedades:\n",
    "        #No se agrega la emfermedad \n",
    "        indice = listas_enfermedades.index(paciente[4])\n",
    "        lista_cantidades[indice] += 1\n",
    "    else: \n",
    "        #Agrega la emfermedad\n",
    "        listas_enfermedades.append(paciente[4])\n",
    "        lista_cantidades.append(1)\n",
    "#Imprimir    \n",
    "print('\\nREPORTE DE ENFERMEDADES')\n",
    "for i in range(len(listas_enfermedades)):\n",
    "    print(f'El diagnostico {listas_enfermedades[i]} concurrencia de {lista_cantidades[i]}')\n"
   ]
  },
  {
   "attachments": {},
   "cell_type": "markdown",
   "metadata": {
    "azdata_cell_guid": "babcfd28-f173-4adb-b593-c5cf58370bc0",
    "language": "python"
   },
   "source": [
    "## Desafío 2: Exploración Tecnológica - Reporte de Medicamentos Recetados\n",
    "\n",
    "Ahora que ya tienes el reporte de las enfermedades tratadas, es momento de explorar qué medicamentos se están recetando en la clínica. Tu tarea es generar un reporte similar al anterior, pero esta vez debes contar cuántos pacientes han recibido cada medicamento.\n",
    "\n",
    "### Instrucciones:\n",
    "\n",
    "1. Almacena los medicamentos recetados en una lista.\n",
    "2. Recorre los datos y cuenta cuántos pacientes han recibido cada medicamento.\n",
    "3. Visualiza los resultados de manera creativa.\n",
    "\n",
    "### Preguntas:\n",
    "\n",
    "- ¿Qué medicamentos son los más recetados?\n",
    "- ¿Cómo podrías optimizar el uso de medicamentos en la clínica?\n",
    "\n",
    "Resultados esperados: \n",
    "\n",
    "```\n",
    "Reporte de medicamentos recetados:\n",
    "acetaminofen: 9 pacientes\n",
    "antiácido: 2 pacientes\n",
    "jarabe: 2 pacientes\n",
    "insulina: 3 pacientes\n",
    "salbutamol: 4 pacientes\n",
    "levotiroxina: 2 pacientes\n",
    "............................................\n",
    "\n",
    "```"
   ]
  },
  {
   "cell_type": "code",
   "execution_count": 89,
   "metadata": {
    "azdata_cell_guid": "85051147-a5a3-40e9-a423-179ac721be03",
    "language": "python"
   },
   "outputs": [
    {
     "name": "stdout",
     "output_type": "stream",
     "text": [
      "\n",
      "REPORTE DE MEDICAMENTOS\n",
      "El medicamento acetaminofen concurrencia de 9\n",
      "El medicamento antiácido concurrencia de 2\n",
      "El medicamento jarabe concurrencia de 2\n",
      "El medicamento insulina concurrencia de 3\n",
      "El medicamento salbutamol concurrencia de 4\n",
      "El medicamento levotiroxina concurrencia de 2\n",
      "El medicamento loratadina concurrencia de 2\n",
      "El medicamento amlodipino concurrencia de 2\n",
      "El medicamento ibuprofeno concurrencia de 2\n",
      "El medicamento clonazepam concurrencia de 1\n",
      "El medicamento cetirizina concurrencia de 1\n",
      "El medicamento omeprazol concurrencia de 2\n",
      "El medicamento losartán concurrencia de 1\n",
      "El medicamento paracetamol concurrencia de 1\n",
      "El medicamento diazepam concurrencia de 1\n",
      "El medicamento metformina concurrencia de 1\n",
      "El medicamento fluticasona concurrencia de 1\n",
      "El medicamento pantoprazol concurrencia de 1\n",
      "El medicamento enalapril concurrencia de 1\n"
     ]
    }
   ],
   "source": [
    "# Listas para almacenar los medicamentos y sus frecuencias\n",
    "import json \n",
    "with open('clinica_intermedio.json', encoding= 'utf-8') as archivo: \n",
    "    datos = json.load(archivo)\n",
    "    \n",
    "medicamentos = []\n",
    "frecuencias = []\n",
    "\n",
    "for paciente in datos:\n",
    "    if paciente[5] in medicamentos:\n",
    "        #No se agrega la emfermedad \n",
    "        indice = medicamentos.index(paciente[5])\n",
    "        frecuencias[indice] += 1\n",
    "    else: \n",
    "        #Agrega la emfermedad\n",
    "        medicamentos.append(paciente[5])\n",
    "        frecuencias.append(1)\n",
    "#Imprimir    \n",
    "print('\\nREPORTE DE MEDICAMENTOS')\n",
    "for i in range(len(medicamentos)):\n",
    "    print(f'El medicamento {medicamentos[i]} concurrencia de {frecuencias[i]}')\n",
    "\n",
    "\n",
    "\n",
    "\n"
   ]
  },
  {
   "attachments": {},
   "cell_type": "markdown",
   "metadata": {
    "azdata_cell_guid": "e75d82f8-c903-459c-b6b4-3cdc9d23ac5c"
   },
   "source": [
    "## Desafío 3: Ingeniería - Comparar Pacientes por Identificación\n",
    "\n",
    "Este desafío te permitirá comparar dos pacientes de la clínica en base a sus identificaciones. Tu objetivo es averiguar:\n",
    "\n",
    "1. **¿Qué enfermedades tienen en común?**\n",
    "2. **¿Qué medicamentos toman en común?**\n",
    "\n",
    "### Instrucciones:\n",
    "\n",
    "1. Solicita dos identificaciones de pacientes al usuario.\n",
    "2. Extrae las enfermedades y medicamentos de esos dos pacientes.\n",
    "3. Compara las enfermedades y medicamentos y muestra los resultados.\n",
    "\n",
    "### Preguntas:\n",
    "\n",
    "- ¿Qué enfermedades y medicamentos son comunes en los pacientes comparados?\n",
    "- ¿Qué información adicional podrías incluir para mejorar esta comparación?\n"
   ]
  },
  {
   "cell_type": "code",
   "execution_count": 95,
   "metadata": {
    "azdata_cell_guid": "26417c6c-aa5d-41a9-b7c7-fa268a476a6d",
    "language": "python",
    "tags": []
   },
   "outputs": [
    {
     "name": "stdout",
     "output_type": "stream",
     "text": [
      "Las enfermedades comunes son:  ['gastritis']\n"
     ]
    }
   ],
   "source": [
    "# Pedimos las identificaciones de los dos pacientes\n",
    "import json \n",
    "with open('clinica_intermedio.json', encoding= 'utf-8') as archivo: \n",
    "    datos = json.load(archivo)\n",
    "\n",
    "enfermedades1 = []\n",
    "medicamentos1 = []\n",
    "\n",
    "enfermedades2 = []\n",
    "medicamentos2 = []\n",
    "\n",
    "\n",
    "\n",
    "paciente1 = input('Ingrese la cedula del primer paciente')\n",
    "paciente2 = input('Ingrese la cedula del segundo paciente')\n",
    "\n",
    "for p in datos:\n",
    "    if p[0] == paciente1:\n",
    "        enfermedades1.append(p[4])\n",
    "        medicamentos1.append(p[5])\n",
    "        \n",
    "    elif p[0] == paciente2:\n",
    "        enfermedades2.append(p[4])\n",
    "        medicamentos2.append(p[5])\n",
    "              \n",
    "enfermedades_comunes = []\n",
    "\n",
    "for enfermedad in enfermedades1:\n",
    "    if enfermedad in enfermedades2:\n",
    "        enfermedades_comunes.append(enfermedad)             \n",
    "\n",
    "if enfermedades_comunes:\n",
    "    print('Las enfermedades comunes son: ', enfermedades_comunes)\n",
    "else:\n",
    "    print('No tiene enfermedades comunes')\n"
   ]
  },
  {
   "attachments": {},
   "cell_type": "markdown",
   "metadata": {
    "azdata_cell_guid": "ac71941a-8e0d-4ea1-98ff-b293ecd8defb",
    "language": "python"
   },
   "source": [
    "## Desafío Final: Arte y Matemáticas - Visualización Creativa y Reflexión\n",
    "\n",
    "Has llegado al último desafío, ¡felicidades! Ahora es momento de presentar tus resultados de una forma creativa. Tu tarea será utilizar **gráficos**, **tablas** o incluso **arte digital** para mostrar tus descubrimientos sobre los datos de los pacientes de la clínica.\n",
    "\n",
    "\n",
    "### Preguntas:\n",
    "\n",
    "- ¿Qué patrones encontraste en los datos?\n",
    "- ¿Cómo podrías usar estos análisis para mejorar la atención de los pacientes?"
   ]
  },
  {
   "cell_type": "code",
   "execution_count": 102,
   "metadata": {},
   "outputs": [
    {
     "name": "stdout",
     "output_type": "stream",
     "text": [
      "\n",
      "Provincia: San Jose\n",
      "Cantidad de enfermedades distintas: 7\n",
      "  - gripe: medicamento(s): acetaminofen\n",
      "  - dolor: medicamento(s): acetaminofen\n",
      "  - asma: medicamento(s): salbutamol\n",
      "  - alergias: medicamento(s): cetirizina, loratadina\n",
      "  - dolor de espalda: medicamento(s): paracetamol\n",
      "  - migraña: medicamento(s): ibuprofeno\n",
      "  - gastritis: medicamento(s): omeprazol\n"
     ]
    }
   ],
   "source": [
    "from collections import defaultdict\n",
    "\n",
    "# Datos iniciales (todos los registros)\n",
    "datos = [\n",
    "    [\"116640019\", 61727979, \"San Jose\", \"Desamparados\", \"gripe\", \"acetaminofen\"],\n",
    "    [\"303030303\", 60534319, \"Heredia\", \"Santo Domingo\", \"gastritis\", \"antiácido\"],\n",
    "    [\"503980535\", 70713699, \"Alajuela\", \"San Carlos\", \"tos\", \"jarabe\"],\n",
    "    [\"222222222\", 70693575, \"Cartago\", \"Paraíso\", \"migraña\", \"acetaminofen\"],\n",
    "    [\"116310912\", 88070036, \"San Jose\", \"Curridabat\", \"dolor\", \"acetaminofen\"],\n",
    "    [\"604830325\", 83155658, \"Puntarenas\", \"Osa\", \"gripe\", \"acetaminofen\"],\n",
    "    [\"116130052\", 64069212, \"Guanacaste\", \"Liberia\", \"gastritis\", \"antiácido\"],\n",
    "    [\"111860150\", 88447416, \"Limon\", \"Puerto Viejo\", \"diabetes\", \"insulina\"],\n",
    "    [\"110283456\", 61088556, \"San Jose\", \"Escazú\", \"asma\", \"salbutamol\"],\n",
    "    [\"503810832\", 83076969, \"Heredia\", \"Barva\", \"gripe\", \"acetaminofen\"],\n",
    "    [\"114740407\", 70112487, \"Cartago\", \"Turrialba\", \"hipotiroidismo\", \"levotiroxina\"],\n",
    "    [\"111111111\", 83349456, \"San Jose\", \"Montes de Oca\", \"alergias\", \"loratadina\"],\n",
    "    [\"215487963\", 78823654, \"Guanacaste\", \"Nicoya\", \"migraña\", \"acetaminofen\"],\n",
    "    [\"318540762\", 65892345, \"Alajuela\", \"Grecia\", \"presión alta\", \"amlodipino\"],\n",
    "    [\"457821904\", 72908475, \"Cartago\", \"Oreamuno\", \"dolor de espalda\", \"ibuprofeno\"],\n",
    "    [\"602948176\", 61928374, \"Heredia\", \"Belén\", \"ansiedad\", \"clonazepam\"],\n",
    "    [\"703219485\", 63487294, \"Limon\", \"Guápiles\", \"diabetes\", \"insulina\"],\n",
    "    [\"120540497\", 72845312, \"Puntarenas\", \"Coto Brus\", \"asma\", \"salbutamol\"],\n",
    "    [\"908124753\", 71239485, \"San Jose\", \"Moravia\", \"alergias\", \"cetirizina\"],\n",
    "    [\"103927564\", 63749562, \"Heredia\", \"San Isidro\", \"gastritis\", \"omeprazol\"],\n",
    "    [\"200145879\", 78546932, \"Guanacaste\", \"Santa Cruz\", \"presión alta\", \"losartán\"],\n",
    "    [\"305946278\", 65849371, \"Puntarenas\", \"Golfito\", \"tos\", \"jarabe\"],\n",
    "    [\"412598764\", 73284956, \"San Jose\", \"Tibás\", \"dolor de espalda\", \"paracetamol\"],\n",
    "    [\"507812394\", 69231875, \"Cartago\", \"El Guarco\", \"ansiedad\", \"diazepam\"],\n",
    "    [\"602938574\", 61249375, \"Limon\", \"Siquirres\", \"diabetes\", \"metformina\"],\n",
    "    [\"715498372\", 74938261, \"Alajuela\", \"Atenas\", \"asma\", \"fluticasona\"],\n",
    "    [\"823654091\", 69829375, \"San Jose\", \"Pérez Zeledón\", \"alergias\", \"loratadina\"],\n",
    "    [\"912475683\", 73485629, \"Cartago\", \"Jiménez\", \"hipotiroidismo\", \"levotiroxina\"],\n",
    "    [\"104598273\", 68597312, \"Heredia\", \"San Rafael\", \"gripe\", \"acetaminofen\"],\n",
    "    [\"205963184\", 71928364, \"Puntarenas\", \"Esparza\", \"gastritis\", \"pantoprazol\"],\n",
    "    [\"301456897\", 64395721, \"San Jose\", \"Alajuelita\", \"migraña\", \"ibuprofeno\"],\n",
    "    [\"401598723\", 71928574, \"Limon\", \"Matina\", \"presión alta\", \"enalapril\"],\n",
    "    [\"510298374\", 62938475, \"Guanacaste\", \"Bagaces\", \"asma\", \"salbutamol\"],\n",
    "    [\"621095837\", 75928346, \"Cartago\", \"Turrialba\", \"diabetes\", \"insulina\"],\n",
    "    [\"732145609\", 68495731, \"Heredia\", \"Flores\", \"dolor\", \"acetaminofen\"],\n",
    "    [\"802149357\", 72938475, \"San Jose\", \"Goicoechea\", \"gastritis\", \"omeprazol\"],\n",
    "    [\"913256748\", 65849371, \"Puntarenas\", \"Buenos Aires\", \"presión alta\", \"amlodipino\"],\n",
    "    [\"102548397\", 67293857, \"Limon\", \"Talamanca\", \"asma\", \"salbutamol\"],\n",
    "    [\"204985763\", 74583925, \"Guanacaste\", \"Carrillo\", \"gripe\", \"acetaminofen\"]\n",
    "]\n",
    "\n",
    "# 1. Agrupar datos por provincia → enfermedad → medicamentos únicos\n",
    "provincia_info = defaultdict(lambda: defaultdict(set))\n",
    "\n",
    "for _, _, provincia, _, enfermedad, medicamento in datos:\n",
    "    provincia_info[provincia][enfermedad].add(medicamento)\n",
    "\n",
    "# 2. Función para consultar\n",
    "def consulta():\n",
    "    prov = input(\"Ingresa la provincia a consultar (ej. San José): \").strip()\n",
    "    if prov not in provincia_info:\n",
    "        print(f\"No hay registros para '{prov}'.\")\n",
    "        return\n",
    "\n",
    "    enfermedades = provincia_info[prov]\n",
    "    print(f\"\\nProvincia: {prov}\")\n",
    "    print(f\"Cantidad de enfermedades distintas: {len(enfermedades)}\")\n",
    "    for enf, meds in enfermedades.items():\n",
    "        print(f\"  - {enf}: medicamento(s): {', '.join(meds)}\")\n",
    "\n",
    "if __name__ == \"__main__\":\n",
    "    consulta()"
   ]
  }
 ],
 "metadata": {
  "kernelspec": {
   "display_name": "Python 3",
   "language": "python",
   "name": "python3"
  },
  "language_info": {
   "codemirror_mode": {
    "name": "ipython",
    "version": 3
   },
   "file_extension": ".py",
   "mimetype": "text/x-python",
   "name": "python",
   "nbconvert_exporter": "python",
   "pygments_lexer": "ipython3",
   "version": "3.13.3"
  }
 },
 "nbformat": 4,
 "nbformat_minor": 2
}
